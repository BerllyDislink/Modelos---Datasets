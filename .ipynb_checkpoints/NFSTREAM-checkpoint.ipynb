{
 "cells": [
  {
   "cell_type": "code",
   "execution_count": 12,
   "id": "498563c3-645a-4fa9-a712-c45c937cade6",
   "metadata": {},
   "outputs": [
    {
     "name": "stdout",
     "output_type": "stream",
     "text": [
      "Error: Please specify a pcap file path or a valid network interface name as source.\n",
      "Por favor, verifica que has especificado correctamente el nombre de la interfaz de red.\n",
      "Ejecuta el siguiente comando para listar las interfaces de red disponibles:\n",
      "netsh interface show interface\n"
     ]
    }
   ],
   "source": [
    "from nfstream import NFStreamer\n",
    "import pandas as pd\n",
    "\n",
    "# Especificar la interfaz de red correcta (cámbiala según tu sistema)\n",
    "interface = \"Ethernet 2\"  # Ajusta este nombre según el resultado de tu comando anterior\n",
    "\n",
    "try:\n",
    "    # Utilizar NFStreamer para capturar tráfico en vivo desde la interfaz\n",
    "    streamer = NFStreamer(source=interface)\n",
    "\n",
    "    # Crear una lista para almacenar los flujos de datos\n",
    "    flows = []\n",
    "\n",
    "    # Iterar sobre los flujos capturados en vivo\n",
    "    for flow in streamer:\n",
    "        # Convertir cada flujo a un diccionario y añadirlo a la lista\n",
    "        flows.append(flow.to_dict())\n",
    "\n",
    "        # Convertir la lista de flujos a un DataFrame de pandas\n",
    "        df = pd.DataFrame(flows)\n",
    "\n",
    "        # Mostrar las primeras filas del DataFrame para verificar\n",
    "        print(df.head())\n",
    "\n",
    "except ValueError as e:\n",
    "    print(f\"Error: {e}\")\n",
    "    print(\"Por favor, verifica que has especificado correctamente el nombre de la interfaz de red.\")\n",
    "    print(\"Ejecuta el siguiente comando para listar las interfaces de red disponibles:\")\n",
    "    print(\"netsh interface show interface\")\n",
    "\n",
    "except Exception as e:\n",
    "    print(f\"Ocurrió un error inesperado: {e}\")\n"
   ]
  },
  {
   "cell_type": "code",
   "execution_count": 31,
   "id": "58df1446-aaa1-421e-bed9-cbe031f25965",
   "metadata": {},
   "outputs": [],
   "source": [
    "from nfstream import NFStreamer\n",
    "import pandas as pd\n",
    "\n",
    "# Definir el mapeo de protocolos\n",
    "protocol_mapping = {\n",
    "    1: 'ICMP',\n",
    "    6: 'TCP',\n",
    "    17: 'UDP',\n",
    "    # Añade más mapeos según sea necesario\n",
    "}\n",
    "\n",
    "# Cargar los datos del pcap y convertirlos a un DataFrame\n",
    "df = NFStreamer(source=r\"C:\\Users\\josef\\Downloads\\DATASETS\\tcp2.pcap\").to_pandas()\n",
    "\n",
    "# Aplicar el mapeo a la columna \"protocol\"\n",
    "df['protocol'] = df['protocol'].map(protocol_mapping)\n",
    "\n",
    "# Configurar opciones de visualización de pandas\n",
    "pd.set_option('display.max_columns', 500)\n",
    "pd.set_option('display.max_rows', 500)\n",
    "\n",
    "# Mostrar las primeras 10 filas del DataFrame\n",
    "print(df.head(10))\n"
   ]
  },
  {
   "cell_type": "code",
   "execution_count": 30,
   "id": "9613d127-7216-4f53-b9e9-fb7ec9bc6ad5",
   "metadata": {},
   "outputs": [],
   "source": [
    "\n"
   ]
  },
  {
   "cell_type": "code",
   "execution_count": null,
   "id": "ac62d714-37d2-4422-8e75-90fca56ac4c4",
   "metadata": {},
   "outputs": [],
   "source": []
  }
 ],
 "metadata": {
  "kernelspec": {
   "display_name": "Python 3 (ipykernel)",
   "language": "python",
   "name": "python3"
  },
  "language_info": {
   "codemirror_mode": {
    "name": "ipython",
    "version": 3
   },
   "file_extension": ".py",
   "mimetype": "text/x-python",
   "name": "python",
   "nbconvert_exporter": "python",
   "pygments_lexer": "ipython3",
   "version": "3.11.4"
  }
 },
 "nbformat": 4,
 "nbformat_minor": 5
}
