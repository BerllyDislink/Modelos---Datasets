{
 "cells": [
  {
   "cell_type": "code",
   "execution_count": 62,
   "id": "01bcce06-934f-4bd4-accf-e3041f207c46",
   "metadata": {},
   "outputs": [],
   "source": [
    "import pandas as pd\n",
    "import numpy as np\n",
    "from ipywidgets import interact,IntSlider\n",
    "from sklearn.linear_model import LogisticRegression\n",
    "from sklearn.metrics import accuracy_score, classification_report\n",
    "import statsmodels.api as sm\n",
    "import statsmodels.formula.api as smf\n"
   ]
  },
  {
   "cell_type": "code",
   "execution_count": 63,
   "id": "ee4f79d3-7f58-4906-8826-490b688be7d8",
   "metadata": {},
   "outputs": [],
   "source": [
    "data_train=r\"C:\\Users\\josef\\Downloads\\DATASETS\\Train_data.csv\"\n",
    "df_train=pd.read_csv(data_train)"
   ]
  },
  {
   "cell_type": "code",
   "execution_count": null,
   "id": "5699122c-4ef5-49e4-825b-7eeaf1134446",
   "metadata": {},
   "outputs": [],
   "source": [
    "data_test=r\"C:\\Users\\josef\\Downloads\\DATASETS\\Test_data.csv\"\n",
    "df_test=pd.read_csv(data_test)"
   ]
  }
 ],
 "metadata": {
  "kernelspec": {
   "display_name": "Python 3 (ipykernel)",
   "language": "python",
   "name": "python3"
  },
  "language_info": {
   "codemirror_mode": {
    "name": "ipython",
    "version": 3
   },
   "file_extension": ".py",
   "mimetype": "text/x-python",
   "name": "python",
   "nbconvert_exporter": "python",
   "pygments_lexer": "ipython3",
   "version": "3.11.4"
  }
 },
 "nbformat": 4,
 "nbformat_minor": 5
}
